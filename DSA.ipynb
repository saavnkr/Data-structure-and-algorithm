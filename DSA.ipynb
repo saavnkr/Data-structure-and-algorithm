{
  "nbformat": 4,
  "nbformat_minor": 0,
  "metadata": {
    "colab": {
      "name": "DSA.ipynb",
      "provenance": [],
      "authorship_tag": "ABX9TyN0NBJcelsf7jEPlTRqOavb",
      "include_colab_link": true
    },
    "kernelspec": {
      "name": "python3",
      "display_name": "Python 3"
    },
    "language_info": {
      "name": "python"
    }
  },
  "cells": [
    {
      "cell_type": "markdown",
      "metadata": {
        "id": "view-in-github",
        "colab_type": "text"
      },
      "source": [
        "<a href=\"https://colab.research.google.com/github/saavnkr/Data-structure-and-algorithm/blob/main/DSA.ipynb\" target=\"_parent\"><img src=\"https://colab.research.google.com/assets/colab-badge.svg\" alt=\"Open In Colab\"/></a>"
      ]
    },
    {
      "cell_type": "markdown",
      "source": [
        "#DSA"
      ],
      "metadata": {
        "id": "qLLGED3docJ7"
      }
    },
    {
      "cell_type": "markdown",
      "source": [
        "##linear Search"
      ],
      "metadata": {
        "id": "1XVnXnndoiv6"
      }
    },
    {
      "cell_type": "code",
      "source": [
        "def linear_search(list,target):\n",
        "  '''\n",
        "  number list is the list we are searching from \n",
        "  target is the value we are searching\n",
        "  this linear_search returns the index of the target value in the list list\n",
        "  in big O notation: best case is O(1) ie constant run time and worst case O(n)\n",
        "  '''\n",
        "  for i in range(0,len(list)):\n",
        "    if list[i] == target:\n",
        "      return (\"the index of the target value is:\", i)\n",
        "  return None\n",
        "\n",
        "\n",
        "def verify(index):\n",
        "  if index is not None:\n",
        "    print(\"the target index exits:\", index)\n",
        "  else:\n",
        "    print(\"the target is out of range\")\n",
        "\n",
        "target = int(input(\"Enter your target value:\"))\n",
        "list = [x for x in range(20)]\n",
        "print(list)\n",
        "print(\"--------------------------------------------------------------\")\n",
        "result = linear_search(list,target)\n",
        "verify(result)\n"
      ],
      "metadata": {
        "colab": {
          "base_uri": "https://localhost:8080/"
        },
        "id": "ya0RUIicomo0",
        "outputId": "7daca530-4368-44e0-d182-5596a320a87b"
      },
      "execution_count": null,
      "outputs": [
        {
          "output_type": "stream",
          "name": "stdout",
          "text": [
            "Enter your target value:8\n",
            "[0, 1, 2, 3, 4, 5, 6, 7, 8, 9, 10, 11, 12, 13, 14, 15, 16, 17, 18, 19]\n",
            "--------------------------------------------------------------\n",
            "the target index exits: ('the index of the target value is:', 8)\n"
          ]
        },
        {
          "output_type": "execute_result",
          "data": {
            "text/plain": [
              "8"
            ]
          },
          "metadata": {},
          "execution_count": 21
        }
      ]
    },
    {
      "cell_type": "markdown",
      "source": [
        "##Binary Search"
      ],
      "metadata": {
        "id": "1NApl50ruqM1"
      }
    },
    {
      "cell_type": "code",
      "source": [
        "def binary_search(list,target):\n",
        "  '''\n",
        "  this function returns index of the target value\n",
        "  best case senario O(1), worst case O(logn)\n",
        "  '''\n",
        "  first = 0\n",
        "  last = len(list)-1\n",
        "\n",
        "  while first <= last:\n",
        "    mid = (first + last)//2\n",
        "    if list[mid] == target:\n",
        "      return mid\n",
        "    elif list[mid] < target:\n",
        "      first = mid + 1\n",
        "    else:\n",
        "      last = mid -1\n",
        "  return None\n",
        "\n",
        "#in binary search list should be always sorted otherwise it wont work\n",
        "list = [x for x in range(1,1000)]\n",
        "target = int(input(\"Enter your target value:\"))\n",
        "\n",
        "def verify(index):\n",
        "  if index is not None:\n",
        "    print(\"target value exits at index:\",index)\n",
        "  else:\n",
        "    print(\"target value does not exits\")\n",
        "\n",
        "result = binary_search(list,target)\n",
        "verify(result)"
      ],
      "metadata": {
        "colab": {
          "base_uri": "https://localhost:8080/"
        },
        "id": "VkMCd2yYyQs0",
        "outputId": "f50d9483-55c8-476c-b7ba-1023a5604779"
      },
      "execution_count": null,
      "outputs": [
        {
          "output_type": "stream",
          "name": "stdout",
          "text": [
            "Enter your target value:999\n",
            "target value exits at index: 998\n"
          ]
        }
      ]
    },
    {
      "cell_type": "markdown",
      "source": [
        "###recursive Binary Search"
      ],
      "metadata": {
        "id": "aVui2fM8436c"
      }
    },
    {
      "cell_type": "code",
      "source": [
        "def recursive_binary_search(list,target):\n",
        "\n",
        "  if len(list) == 0:\n",
        "    return False\n",
        "  else:\n",
        "    mid = len(list)//2\n",
        "\n",
        "    if list[mid]==target:\n",
        "      return True\n",
        "    else:\n",
        "      if list[mid]<target:\n",
        "        return recursive_binary_search(list[mid+1:],target)\n",
        "      else:\n",
        "        return recursive_binary_search(list[:mid],target)\n",
        "\n",
        "def verify(result):\n",
        "  print(\"does no exits:\",result)\n",
        "\n",
        "list = [1,2,3,4,5,6,7,8,9,10,11,12,13]  \n",
        "target = 8\n",
        "\n",
        "result=recursive_binary_search(list,target)\n",
        "print(result)\n"
      ],
      "metadata": {
        "colab": {
          "base_uri": "https://localhost:8080/"
        },
        "id": "sBdc1T334_pA",
        "outputId": "bfc5d92b-b04e-40c6-c2b0-b156348c50eb"
      },
      "execution_count": null,
      "outputs": [
        {
          "output_type": "stream",
          "name": "stdout",
          "text": [
            "True\n"
          ]
        }
      ]
    },
    {
      "cell_type": "markdown",
      "source": [
        "##merge sort"
      ],
      "metadata": {
        "id": "HYVFHDpT9P1_"
      }
    },
    {
      "cell_type": "code",
      "source": [
        "def merge_sort(list):\n",
        "  \"\"\"\n",
        "  O(nlogn)\n",
        "  sorts the list in ascending order\n",
        "  divide: the list in left_list and right_list\n",
        "  compare: sort the left and right list\n",
        "  merge: mert the left and right list\n",
        "  \"\"\"\n",
        "  if len(list)<=1:\n",
        "    return list\n",
        "\n",
        "  left_half, right_half = split(list)\n",
        "  left = merge_sort(left_half)\n",
        "  right= merge_sort(right_half)\n",
        "  return merge(left,right)\n",
        "\n",
        "def split(list):\n",
        "  mid = len(list)//2\n",
        "  left = list[:mid]\n",
        "  right = list[mid:]\n",
        "  return left, right\n",
        "\n",
        "def merge(left,right):\n",
        "  '''\n",
        "  this function merge and sort the left and right list created\n",
        "  this works recursively\n",
        "  '''\n",
        "  l = []\n",
        "  i=0\n",
        "  j=0\n",
        "  while i<len(left) and j<len(right):\n",
        "    if left[i] < right[j]:\n",
        "      l.append(left[i])\n",
        "      i+=1\n",
        "    else:\n",
        "      l.append(right[j])\n",
        "      j+=1\n",
        "\n",
        "  while i<len(left):\n",
        "    l.append(left[i])\n",
        "    i+=1\n",
        "  while j<len(right):\n",
        "    l.append(right[j])\n",
        "    j+=1\n",
        "  return l\n",
        "\n",
        "\n",
        "list = [23,1,4,56,1,67,23,98,65]\n",
        "merge_sort(list)"
      ],
      "metadata": {
        "colab": {
          "base_uri": "https://localhost:8080/"
        },
        "id": "FlanJRPI9Ujd",
        "outputId": "7ce4ce86-de39-4e89-fd78-b9a2aee796a0"
      },
      "execution_count": null,
      "outputs": [
        {
          "output_type": "execute_result",
          "data": {
            "text/plain": [
              "[1, 1, 4, 23, 23, 56, 65, 67, 98]"
            ]
          },
          "metadata": {},
          "execution_count": 3
        }
      ]
    },
    {
      "cell_type": "code",
      "source": [
        "#other approach\n",
        "def m_sort(list):\n",
        "  if len(list)<=1:\n",
        "    return list\n",
        "  #now we need to split our list recursivley\n",
        "  mid = len(list)//2\n",
        "  left_half = m_sort(list[:mid])\n",
        "  right_half = m_sort(list[mid:])\n",
        "\n",
        "  #now we will compare the index values and sort and merge the left and right list\n",
        "  l=[]\n",
        "  left_index=0\n",
        "  right_index=0\n",
        "  while left_index<len(left_half) and right_index<len(right_half):\n",
        "    if left_half[left_index] < right_half[right_index]:\n",
        "      l.append(left_half[left_index])\n",
        "      left_index+=1\n",
        "    else:\n",
        "      l.append(right_half[right_index])\n",
        "      right_index+=1\n",
        "\n",
        "  #for values left in both the list we will directly append them in the list\n",
        "  l+= left_half[left_index:]\n",
        "  l+= right_half[right_index:]\n",
        "\n",
        "  return l\n",
        "\n",
        "list =[98,95,67,45,34,26,8,7,6,5,4,1]\n",
        "list_sorted = m_sort(list)\n",
        "\n",
        "\n",
        "def verify_sorted(list):\n",
        "  n = len(list)\n",
        "  if n==0 or n==1:\n",
        "    return True\n",
        "\n",
        "  return list[0]<list[1] and verify_sorted(list[1:])\n",
        "\n",
        "print(verify_sorted(list_sorted))\n",
        "print(verify_sorted(list))\n",
        "    \n"
      ],
      "metadata": {
        "colab": {
          "base_uri": "https://localhost:8080/"
        },
        "id": "W_eM7r4CEfIn",
        "outputId": "9fbcfbdf-98f5-4912-f051-731608997b62"
      },
      "execution_count": 4,
      "outputs": [
        {
          "output_type": "stream",
          "name": "stdout",
          "text": [
            "True\n",
            "False\n"
          ]
        }
      ]
    },
    {
      "cell_type": "markdown",
      "source": [
        "##Selection sort "
      ],
      "metadata": {
        "id": "rN_bWrRgFmHe"
      }
    },
    {
      "cell_type": "code",
      "source": [
        "def selection_sort(list):\n",
        "  '''\n",
        "  it compares the values in a list and then append and move the smallest value \n",
        "  in the sorted_list \n",
        "  the sort is in ascending order\n",
        "  '''\n",
        "  sorted_list=[]\n",
        "  # this print statement allow us to visualise the sorting \n",
        "  # print(\"%-25s %-25s\" % (list,sorted_list))\n",
        "\n",
        "  for i in range(0,len(list)):\n",
        "    index_to_move = min_value_index(list)\n",
        "    sorted_list.append(list.pop(index_to_move))\n",
        "    # print(\"%-25s %-25s\" % (list,sorted_list))\n",
        "  return sorted_list\n",
        "\n",
        "def min_value_index(list):\n",
        "  min_index = 0\n",
        "  for i in range(0,len(list)):\n",
        "    if list[i]<list[min_index]:\n",
        "      min_index = i\n",
        "  return min_index\n",
        "\n",
        "list=[98,96,89,76,56,67,45,34,20,2,3,4]\n",
        "\n",
        "s_list = selection_sort(list)\n",
        "print(s_list )\n",
        "\n",
        "def verify_sort(list):\n",
        "  n = len(list)\n",
        "  if n == 0 or n==1:\n",
        "    return True\n",
        "  return list[0]<list[1] and verify_sort(list[1:])\n",
        "\n",
        "verify_sorted(s_list)"
      ],
      "metadata": {
        "colab": {
          "base_uri": "https://localhost:8080/"
        },
        "id": "d4BJUSZhFpD4",
        "outputId": "54a303f7-b786-4259-fffb-670bcdc4088a"
      },
      "execution_count": 12,
      "outputs": [
        {
          "output_type": "stream",
          "name": "stdout",
          "text": [
            "[98, 96, 89, 76, 56, 67, 45, 34, 20, 2, 3, 4] []                       \n",
            "[98, 96, 89, 76, 56, 67, 45, 34, 20, 3, 4] [2]                      \n",
            "[98, 96, 89, 76, 56, 67, 45, 34, 20, 4] [2, 3]                   \n",
            "[98, 96, 89, 76, 56, 67, 45, 34, 20] [2, 3, 4]                \n",
            "[98, 96, 89, 76, 56, 67, 45, 34] [2, 3, 4, 20]            \n",
            "[98, 96, 89, 76, 56, 67, 45] [2, 3, 4, 20, 34]        \n",
            "[98, 96, 89, 76, 56, 67]  [2, 3, 4, 20, 34, 45]    \n",
            "[98, 96, 89, 76, 67]      [2, 3, 4, 20, 34, 45, 56]\n",
            "[98, 96, 89, 76]          [2, 3, 4, 20, 34, 45, 56, 67]\n",
            "[98, 96, 89]              [2, 3, 4, 20, 34, 45, 56, 67, 76]\n",
            "[98, 96]                  [2, 3, 4, 20, 34, 45, 56, 67, 76, 89]\n",
            "[98]                      [2, 3, 4, 20, 34, 45, 56, 67, 76, 89, 96]\n",
            "[]                        [2, 3, 4, 20, 34, 45, 56, 67, 76, 89, 96, 98]\n",
            "[2, 3, 4, 20, 34, 45, 56, 67, 76, 89, 96, 98]\n"
          ]
        },
        {
          "output_type": "execute_result",
          "data": {
            "text/plain": [
              "True"
            ]
          },
          "metadata": {},
          "execution_count": 12
        }
      ]
    },
    {
      "cell_type": "markdown",
      "source": [
        "##quick sort"
      ],
      "metadata": {
        "id": "V4N3xoLISeZC"
      }
    },
    {
      "cell_type": "code",
      "source": [
        "def quick_sort(list):\n",
        "  if len(list) <=1:\n",
        "    return list\n",
        "\n",
        "  sorted_list = []\n",
        "  pivot = list[0]\n",
        "  left_list = []\n",
        "  right_list = []\n",
        "\n",
        "  for i in list[1:]:\n",
        "    if i < pivot:\n",
        "      left_list.append(i)\n",
        "    else:\n",
        "      right_list.append(i)\n",
        "  return quick_sort(left_list) + [pivot] + quick_sort(right_list)  \n",
        "\n",
        "list = [99,101,45,87,36,67,100,96]  \n",
        "quick_sort(list)"
      ],
      "metadata": {
        "colab": {
          "base_uri": "https://localhost:8080/"
        },
        "id": "KIIx2uqWShh1",
        "outputId": "90dc4dcb-3c52-420c-cca3-c839c44fa11c"
      },
      "execution_count": 13,
      "outputs": [
        {
          "output_type": "execute_result",
          "data": {
            "text/plain": [
              "[36, 45, 67, 87, 96, 99, 100, 101]"
            ]
          },
          "metadata": {},
          "execution_count": 13
        }
      ]
    },
    {
      "cell_type": "markdown",
      "source": [
        "![Screenshot 2022-04-06 111826.jpg](data:image/jpeg;base64,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)"
      ],
      "metadata": {
        "id": "rNN0_WW8aO5l"
      }
    }
  ]
}